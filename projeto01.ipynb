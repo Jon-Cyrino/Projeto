{
  "nbformat": 4,
  "nbformat_minor": 0,
  "metadata": {
    "colab": {
      "provenance": [],
      "authorship_tag": "ABX9TyNmZkGKLA28E0GXdcPWx7z3",
      "include_colab_link": true
    },
    "kernelspec": {
      "name": "python3",
      "display_name": "Python 3"
    },
    "language_info": {
      "name": "python"
    }
  },
  "cells": [
    {
      "cell_type": "markdown",
      "metadata": {
        "id": "view-in-github",
        "colab_type": "text"
      },
      "source": [
        "<a href=\"https://colab.research.google.com/github/Jon-Cyrino/Projeto/blob/main/projeto01.ipynb\" target=\"_parent\"><img src=\"https://colab.research.google.com/assets/colab-badge.svg\" alt=\"Open In Colab\"/></a>"
      ]
    },
    {
      "cell_type": "code",
      "execution_count": null,
      "metadata": {
        "id": "R37-1aFi_GLv"
      },
      "outputs": [],
      "source": [
        "import time\n",
        "\n",
        "def openlog(nomearq, modo='r'):\n",
        "    arqentrada = open(nomearq, modo)\n",
        "    now = time.localtime()\n",
        "    now_format = time.strftime(\"%Y-%m-%d %H:%M:%S\", now)\n",
        "    arqsaida = open('log.txt', 'a')\n",
        "    log = '{}: arquivo {} aberto.\\n'.format(now_format, nomearq)\n",
        "    arqsaida.write(log)\n",
        "    arqsaida.close()\n",
        "    print('Registro realizado')\n",
        "    return arqentrada\n",
        "\n",
        "arquivo = openlog(\"texte.txt\", \"r\")\n",
        "conteudo = arquivo.read()\n",
        "print(conteudo)\n",
        "arquivo.close()"
      ]
    }
  ]
}